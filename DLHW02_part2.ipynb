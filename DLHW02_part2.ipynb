{
 "cells": [
  {
   "cell_type": "markdown",
   "metadata": {
    "colab_type": "text",
    "collapsed": true,
    "id": "ubrRLnG3XJ-W"
   },
   "source": [
    "# Homework 2, *part 2* (60 points)\n",
    "\n",
    "In this assignment you will build a heavy convolutional neural net (CNN) to solve Tiny ImageNet image classification. Try to achieve as high accuracy as possible."
   ]
  },
  {
   "cell_type": "markdown",
   "metadata": {
    "colab_type": "text",
    "id": "IXSnHl87XJ-X"
   },
   "source": [
    "## Deliverables\n",
    "\n",
    "* This file,\n",
    "* a \"checkpoint file\" from `torch.save(model.state_dict(), ...)` that contains model's weights (which a TA should be able to load to verify your accuracy).\n",
    "\n",
    "## Grading\n",
    "\n",
    "* 9 points for reproducible training code and a filled report below.\n",
    "* 12 points for building a network that gets above 20% accuracy.\n",
    "* 6.5 points for beating each of these milestones on the validation set:\n",
    "  * 25.0%\n",
    "  * 30.0%\n",
    "  * 32.5%\n",
    "  * 35.0%\n",
    "  * 37.5%\n",
    "  * 40.0%\n",
    "    \n",
    "## Restrictions\n",
    "\n",
    "* Don't use pretrained networks.\n",
    "\n",
    "## Tips\n",
    "\n",
    "* One change at a time: never test several new things at once.\n",
    "* Google a lot.\n",
    "* Use GPU.\n",
    "* Use regularization: L2, batch normalization, dropout, data augmentation.\n",
    "* Use Tensorboard ([non-Colab](https://github.com/lanpa/tensorboardX) or [Colab](https://medium.com/@tommytao_54597/use-tensorboard-in-google-colab-16b4bb9812a6)) or a similar interactive tool for viewing progress."
   ]
  },
  {
   "cell_type": "code",
   "execution_count": 2,
   "metadata": {
    "colab": {},
    "colab_type": "code",
    "id": "yygq82OGXJ-X"
   },
   "outputs": [],
   "source": [
    "import numpy as np\n",
    "import matplotlib.pyplot as plt\n",
    "%matplotlib inline\n",
    "\n",
    "import scipy as sp\n",
    "import scipy.misc\n",
    "\n",
    "import torchvision\n",
    "# import torch\n",
    "from torchvision import transforms\n",
    "import torch, torch.nn as nn\n",
    "import torch.nn.functional as F\n",
    "from torch.autograd import Variable"
   ]
  },
  {
   "cell_type": "code",
   "execution_count": 0,
   "metadata": {
    "colab": {
     "base_uri": "https://localhost:8080/",
     "height": 221
    },
    "colab_type": "code",
    "id": "G-9b5JZYXXKW",
    "outputId": "1b45d39b-600a-48e6-8f7c-6a6d0360a268"
   },
   "outputs": [
    {
     "name": "stdout",
     "output_type": "stream",
     "text": [
      "--2019-04-19 15:28:40--  https://raw.githubusercontent.com/yandexdataschool/Practical_DL/spring2019/week03_convnets/tiny_img.py\n",
      "Resolving raw.githubusercontent.com (raw.githubusercontent.com)... 151.101.0.133, 151.101.64.133, 151.101.128.133, ...\n",
      "Connecting to raw.githubusercontent.com (raw.githubusercontent.com)|151.101.0.133|:443... connected.\n",
      "HTTP request sent, awaiting response... 200 OK\n",
      "Length: 3378 (3.3K) [text/plain]\n",
      "Saving to: ‘tiny_img.py’\n",
      "\n",
      "tiny_img.py         100%[===================>]   3.30K  --.-KB/s    in 0s      \n",
      "\n",
      "2019-04-19 15:28:45 (79.9 MB/s) - ‘tiny_img.py’ saved [3378/3378]\n",
      "\n",
      "./tiny-imagenet-200.zip\n"
     ]
    }
   ],
   "source": [
    "!wget https://raw.githubusercontent.com/yandexdataschool/Practical_DL/spring2019/week03_convnets/tiny_img.py -O tiny_img.py\n",
    "from tiny_img import download_tinyImg200\n",
    "data_path = '.'\n",
    "download_tinyImg200(data_path)"
   ]
  },
  {
   "cell_type": "markdown",
   "metadata": {
    "colab_type": "text",
    "id": "0zrgI4mIXJ-i"
   },
   "source": [
    "Training and validation images are now in `tiny-imagenet-200/train` and `tiny-imagenet-200/val`."
   ]
  },
  {
   "cell_type": "code",
   "execution_count": 0,
   "metadata": {
    "colab": {},
    "colab_type": "code",
    "id": "LHICKQDeXJ-j"
   },
   "outputs": [],
   "source": [
    "transform = transforms.Compose([\n",
    "    transforms.RandomGrayscale(p=0.1),\n",
    "    transforms.RandomHorizontalFlip(),\n",
    "#     transforms.RandomVerticalFlip(),\n",
    "#     transforms.RandomCrop(64),\n",
    "    transforms.RandomRotation(45),\n",
    "    transforms.ToTensor(),\n",
    "    transforms.Normalize([0.485, 0.456, 0.406], [0.229, 0.224, 0.225]),\n",
    "])"
   ]
  },
  {
   "cell_type": "code",
   "execution_count": 0,
   "metadata": {
    "colab": {},
    "colab_type": "code",
    "id": "jwcBXmlnXJ-k"
   },
   "outputs": [],
   "source": [
    "# Your code here\n",
    "\n",
    "dataset = torchvision.datasets.ImageFolder('tiny-imagenet-200/train', transform=transform)\n",
    "test_dataset = torchvision.datasets.ImageFolder('tiny-imagenet-200/val', transform=transform)\n",
    "train_dataset, val_dataset = torch.utils.data.random_split(dataset, [80000, 20000])\n",
    "test_dataset, val_dataset = torch.utils.data.random_split(val_dataset, [10000, 10000])"
   ]
  },
  {
   "cell_type": "code",
   "execution_count": 0,
   "metadata": {
    "colab": {},
    "colab_type": "code",
    "id": "fdpcNBiuXJ-m"
   },
   "outputs": [],
   "source": [
    "batch_size = 50\n",
    "train_batch_gen = torch.utils.data.DataLoader(train_dataset, \n",
    "                                              batch_size=batch_size,\n",
    "                                              shuffle=True,\n",
    "                                              num_workers=6)"
   ]
  },
  {
   "cell_type": "code",
   "execution_count": 0,
   "metadata": {
    "colab": {},
    "colab_type": "code",
    "id": "NpSQnqgnXJ-p"
   },
   "outputs": [],
   "source": [
    "val_batch_gen = torch.utils.data.DataLoader(val_dataset, \n",
    "                                              batch_size=batch_size,\n",
    "                                              shuffle=True,\n",
    "                                              num_workers=6)"
   ]
  },
  {
   "cell_type": "code",
   "execution_count": 0,
   "metadata": {
    "colab": {
     "base_uri": "https://localhost:8080/",
     "height": 303
    },
    "colab_type": "code",
    "id": "u4HbFXycXJ-r",
    "outputId": "aa2fd72b-7cd8-4262-9ed6-f87dae1fe2c2"
   },
   "outputs": [
    {
     "name": "stdout",
     "output_type": "stream",
     "text": [
      "torch.Size([3, 64, 64])\n",
      "tensor(179)\n"
     ]
    },
    {
     "data": {
      "image/png": "[encoded data removed]",
      "text/plain": [
       "<Figure size 432x288 with 1 Axes>"
      ]
     },
     "metadata": {
      "tags": []
     },
     "output_type": "display_data"
    }
   ],
   "source": [
    "for X,y in train_batch_gen:\n",
    "    print(X[0].shape)\n",
    "    print(y[0])\n",
    "    plt.imshow(np.array(X[0,0,:,:]));\n",
    "    break"
   ]
  },
  {
   "cell_type": "code",
   "execution_count": 0,
   "metadata": {
    "colab": {},
    "colab_type": "code",
    "id": "MsTQ8j-WXJ-v"
   },
   "outputs": [],
   "source": [
    "class Flatten(nn.Module):\n",
    "    def forward(self, input):\n",
    "        return input.view(input.size(0), -1)"
   ]
  },
  {
   "cell_type": "code",
   "execution_count": 0,
   "metadata": {
    "colab": {},
    "colab_type": "code",
    "id": "mx5gNgwIXJ-y"
   },
   "outputs": [],
   "source": [
    "model = nn.Sequential()\n",
    "\n",
    "model.add_module('conv1', nn.Conv2d(3, 16, kernel_size=3, stride=1, padding=1))\n",
    "model.add_module('batch1', nn.BatchNorm2d(16))\n",
    "model.add_module('relu1', nn.ReLU())  \n",
    "model.add_module('conv2', nn.Conv2d(16, 16, kernel_size=3, stride=1, padding=1))\n",
    "model.add_module('relu2', nn.ReLU())  \n",
    "model.add_module('batch2', nn.BatchNorm2d(16))\n",
    "model.add_module('max_pool1', nn.MaxPool2d(2, 2, padding=0))\n",
    "\n",
    "model.add_module('conv3', nn.Conv2d(16, 32, kernel_size=3, stride=1, padding=1))\n",
    "model.add_module('batch3', nn.BatchNorm2d(32))\n",
    "model.add_module('relu3', nn.ReLU()) \n",
    "model.add_module('conv4', nn.Conv2d(32, 32, kernel_size=3, stride=1, padding=1))\n",
    "model.add_module('batch4', nn.BatchNorm2d(32))\n",
    "model.add_module('relu4', nn.ReLU()) \n",
    "model.add_module('max_pool2', nn.MaxPool2d(2, 2, padding=0))\n",
    "\n",
    "model.add_module('conv5', nn.Conv2d(32, 64, kernel_size=3, stride=1, padding=1))\n",
    "model.add_module('batch5', nn.BatchNorm2d(64))\n",
    "model.add_module('relu5', nn.ReLU()) \n",
    "model.add_module('conv6', nn.Conv2d(64, 64, kernel_size=3, stride=1, padding=1))\n",
    "model.add_module('batch6', nn.BatchNorm2d(64))\n",
    "model.add_module('relu6', nn.ReLU()) \n",
    "model.add_module('max_pool3', nn.MaxPool2d(2, 2, padding=0))\n",
    "\n",
    "\n",
    "model.add_module('conv7', nn.Conv2d(64, 128, kernel_size=3, stride=1, padding=1))\n",
    "model.add_module('batch7', nn.BatchNorm2d(128))\n",
    "model.add_module('relu7', nn.ReLU())  \n",
    "model.add_module('conv8', nn.Conv2d(128, 128, kernel_size=3, stride=1, padding=1))\n",
    "model.add_module('batch8', nn.BatchNorm2d(128))\n",
    "model.add_module('relu8', nn.ReLU())\n",
    "model.add_module('max_pool4', nn.MaxPool2d(2, 2, padding=0))\n",
    "\n",
    "model.add_module('flatten', Flatten())\n",
    "\n",
    "model.add_module('dense1', nn.Linear(2048, 1024, bias=False))  # 512*2*2\n",
    "model.add_module('relu13', nn.ReLU())\n",
    "model.add_module('dropout1', nn.Dropout(0.5))\n",
    "model.add_module('dense2', nn.Linear(1024, 200, bias=False))"
   ]
  },
  {
   "cell_type": "code",
   "execution_count": 0,
   "metadata": {
    "colab": {},
    "colab_type": "code",
    "id": "ucQOt2PdXJ-0"
   },
   "outputs": [],
   "source": [
    "def compute_loss(X_batch, y_batch):\n",
    "    X_batch = Variable(torch.FloatTensor(X_batch))\n",
    "    y_batch = Variable(torch.LongTensor(y_batch))\n",
    "    logits = model(X_batch)\n",
    "    return F.cross_entropy(logits, y_batch).mean()"
   ]
  },
  {
   "cell_type": "code",
   "execution_count": 0,
   "metadata": {
    "colab": {
     "base_uri": "https://localhost:8080/",
     "height": 3020
    },
    "colab_type": "code",
    "id": "ICP0rS95XJ-3",
    "outputId": "74aeb0e5-5b41-4009-971d-b673f5ed7a5c"
   },
   "outputs": [
    {
     "name": "stdout",
     "output_type": "stream",
     "text": [
      "Epoch 1 of 35 took 1224.510s\n",
      "  training loss (in-iteration): \t5.001499\n",
      "  validation accuracy: \t\t\t7.25 %\n",
      "Epoch 2 of 35 took 1242.262s\n",
      "  training loss (in-iteration): \t4.470270\n",
      "  validation accuracy: \t\t\t12.27 %\n",
      "Epoch 3 of 35 took 1242.804s\n",
      "  training loss (in-iteration): \t4.199828\n",
      "  validation accuracy: \t\t\t14.81 %\n",
      "Epoch 4 of 35 took 1261.179s\n",
      "  training loss (in-iteration): \t4.015407\n",
      "  validation accuracy: \t\t\t17.19 %\n",
      "Epoch 5 of 35 took 1255.879s\n",
      "  training loss (in-iteration): \t3.883311\n",
      "  validation accuracy: \t\t\t18.66 %\n",
      "Epoch 6 of 35 took 1253.844s\n",
      "  training loss (in-iteration): \t3.778530\n",
      "  validation accuracy: \t\t\t19.26 %\n",
      "Epoch 7 of 35 took 1258.097s\n",
      "  training loss (in-iteration): \t3.690774\n",
      "  validation accuracy: \t\t\t20.77 %\n",
      "Epoch 8 of 35 took 1246.028s\n",
      "  training loss (in-iteration): \t3.614235\n",
      "  validation accuracy: \t\t\t21.83 %\n",
      "Epoch 9 of 35 took 1248.769s\n",
      "  training loss (in-iteration): \t3.540544\n",
      "  validation accuracy: \t\t\t23.25 %\n",
      "Epoch 10 of 35 took 1240.212s\n",
      "  training loss (in-iteration): \t3.473304\n",
      "  validation accuracy: \t\t\t24.36 %\n",
      "Epoch 11 of 35 took 1246.099s\n",
      "  training loss (in-iteration): \t3.417722\n",
      "  validation accuracy: \t\t\t25.38 %\n",
      "Epoch 12 of 35 took 1249.176s\n",
      "  training loss (in-iteration): \t3.370407\n",
      "  validation accuracy: \t\t\t26.26 %\n",
      "Epoch 13 of 35 took 1269.585s\n",
      "  training loss (in-iteration): \t3.325366\n",
      "  validation accuracy: \t\t\t26.53 %\n",
      "Epoch 14 of 35 took 1256.821s\n",
      "  training loss (in-iteration): \t3.276867\n",
      "  validation accuracy: \t\t\t27.30 %\n",
      "Epoch 15 of 35 took 1260.629s\n",
      "  training loss (in-iteration): \t3.241547\n",
      "  validation accuracy: \t\t\t27.68 %\n",
      "Epoch 16 of 35 took 1255.073s\n",
      "  training loss (in-iteration): \t3.198670\n",
      "  validation accuracy: \t\t\t28.16 %\n",
      "Epoch 17 of 35 took 1265.586s\n",
      "  training loss (in-iteration): \t3.159768\n",
      "  validation accuracy: \t\t\t28.50 %\n",
      "Epoch 18 of 35 took 1248.013s\n",
      "  training loss (in-iteration): \t3.125713\n",
      "  validation accuracy: \t\t\t29.47 %\n",
      "Epoch 19 of 35 took 1244.749s\n",
      "  training loss (in-iteration): \t3.095652\n",
      "  validation accuracy: \t\t\t30.10 %\n",
      "Epoch 20 of 35 took 1249.753s\n",
      "  training loss (in-iteration): \t3.064213\n",
      "  validation accuracy: \t\t\t30.65 %\n",
      "Epoch 21 of 35 took 1255.053s\n",
      "  training loss (in-iteration): \t3.034382\n",
      "  validation accuracy: \t\t\t30.47 %\n",
      "Epoch 22 of 35 took 1249.338s\n",
      "  training loss (in-iteration): \t3.010577\n",
      "  validation accuracy: \t\t\t30.57 %\n",
      "Epoch 23 of 35 took 1255.324s\n",
      "  training loss (in-iteration): \t2.977489\n",
      "  validation accuracy: \t\t\t30.91 %\n",
      "Epoch 24 of 35 took 1251.120s\n",
      "  training loss (in-iteration): \t2.952381\n",
      "  validation accuracy: \t\t\t31.39 %\n",
      "Epoch 25 of 35 took 1293.647s\n",
      "  training loss (in-iteration): \t2.924904\n",
      "  validation accuracy: \t\t\t32.08 %\n",
      "Epoch 26 of 35 took 1280.978s\n",
      "  training loss (in-iteration): \t2.907598\n",
      "  validation accuracy: \t\t\t32.22 %\n",
      "Epoch 27 of 35 took 1275.033s\n",
      "  training loss (in-iteration): \t2.876540\n",
      "  validation accuracy: \t\t\t32.19 %\n",
      "Epoch 28 of 35 took 1262.148s\n",
      "  training loss (in-iteration): \t2.864259\n",
      "  validation accuracy: \t\t\t32.46 %\n",
      "Epoch 29 of 35 took 1254.253s\n",
      "  training loss (in-iteration): \t2.839456\n",
      "  validation accuracy: \t\t\t33.26 %\n",
      "Epoch 30 of 35 took 1252.514s\n",
      "  training loss (in-iteration): \t2.817667\n",
      "  validation accuracy: \t\t\t33.59 %\n"
     ]
    },
    {
     "name": "stderr",
     "output_type": "stream",
     "text": [
      "Traceback (most recent call last):\n",
      "Traceback (most recent call last):\n",
      "  File \"/usr/lib/python3.6/multiprocessing/queues.py\", line 240, in _feed\n",
      "    send_bytes(obj)\n",
      "  File \"/usr/lib/python3.6/multiprocessing/connection.py\", line 200, in send_bytes\n",
      "    self._send_bytes(m[offset:offset + size])\n",
      "  File \"/usr/lib/python3.6/multiprocessing/connection.py\", line 404, in _send_bytes\n",
      "    self._send(header + buf)\n",
      "  File \"/usr/lib/python3.6/multiprocessing/connection.py\", line 368, in _send\n",
      "    n = write(self._handle, buf)\n",
      "BrokenPipeError: [Errno 32] Broken pipe\n",
      "Traceback (most recent call last):\n",
      "  File \"/usr/lib/python3.6/multiprocessing/queues.py\", line 240, in _feed\n",
      "    send_bytes(obj)\n",
      "  File \"/usr/lib/python3.6/multiprocessing/queues.py\", line 240, in _feed\n",
      "    send_bytes(obj)\n",
      "  File \"/usr/lib/python3.6/multiprocessing/connection.py\", line 200, in send_bytes\n",
      "    self._send_bytes(m[offset:offset + size])\n",
      "  File \"/usr/lib/python3.6/multiprocessing/connection.py\", line 200, in send_bytes\n",
      "    self._send_bytes(m[offset:offset + size])\n",
      "  File \"/usr/lib/python3.6/multiprocessing/connection.py\", line 404, in _send_bytes\n",
      "    self._send(header + buf)\n",
      "  File \"/usr/lib/python3.6/multiprocessing/connection.py\", line 404, in _send_bytes\n",
      "    self._send(header + buf)\n",
      "  File \"/usr/lib/python3.6/multiprocessing/connection.py\", line 368, in _send\n",
      "    n = write(self._handle, buf)\n",
      "  File \"/usr/lib/python3.6/multiprocessing/connection.py\", line 368, in _send\n",
      "    n = write(self._handle, buf)\n",
      "BrokenPipeError: [Errno 32] Broken pipe\n",
      "BrokenPipeError: [Errno 32] Broken pipe\n",
      "Traceback (most recent call last):\n",
      "  File \"/usr/lib/python3.6/multiprocessing/queues.py\", line 240, in _feed\n",
      "    send_bytes(obj)\n",
      "  File \"/usr/lib/python3.6/multiprocessing/connection.py\", line 200, in send_bytes\n",
      "    self._send_bytes(m[offset:offset + size])\n",
      "  File \"/usr/lib/python3.6/multiprocessing/connection.py\", line 404, in _send_bytes\n",
      "    self._send(header + buf)\n",
      "Traceback (most recent call last):\n",
      "  File \"/usr/lib/python3.6/multiprocessing/connection.py\", line 368, in _send\n",
      "    n = write(self._handle, buf)\n",
      "  File \"/usr/lib/python3.6/multiprocessing/queues.py\", line 240, in _feed\n",
      "    send_bytes(obj)\n",
      "BrokenPipeError: [Errno 32] Broken pipe\n",
      "  File \"/usr/lib/python3.6/multiprocessing/connection.py\", line 200, in send_bytes\n",
      "    self._send_bytes(m[offset:offset + size])\n",
      "  File \"/usr/lib/python3.6/multiprocessing/connection.py\", line 404, in _send_bytes\n",
      "    self._send(header + buf)\n",
      "  File \"/usr/lib/python3.6/multiprocessing/connection.py\", line 368, in _send\n",
      "    n = write(self._handle, buf)\n",
      "BrokenPipeError: [Errno 32] Broken pipe\n",
      "Traceback (most recent call last):\n",
      "  File \"/usr/lib/python3.6/multiprocessing/queues.py\", line 240, in _feed\n",
      "    send_bytes(obj)\n",
      "  File \"/usr/lib/python3.6/multiprocessing/connection.py\", line 200, in send_bytes\n",
      "    self._send_bytes(m[offset:offset + size])\n",
      "  File \"/usr/lib/python3.6/multiprocessing/connection.py\", line 404, in _send_bytes\n",
      "    self._send(header + buf)\n",
      "  File \"/usr/lib/python3.6/multiprocessing/connection.py\", line 368, in _send\n",
      "    n = write(self._handle, buf)\n",
      "BrokenPipeError: [Errno 32] Broken pipe\n"
     ]
    },
    {
     "ename": "KeyboardInterrupt",
     "evalue": "ignored",
     "output_type": "error",
     "traceback": [
      "\u001b[0;31m---------------------------------------------------------------------------\u001b[0m",
      "\u001b[0;31mKeyboardInterrupt\u001b[0m                         Traceback (most recent call last)",
      "\u001b[0;32m<ipython-input-11-e7c2994e78f1>\u001b[0m in \u001b[0;36m<module>\u001b[0;34m()\u001b[0m\n\u001b[1;32m     14\u001b[0m         \u001b[0;31m# train on batch\u001b[0m\u001b[0;34m\u001b[0m\u001b[0;34m\u001b[0m\u001b[0;34m\u001b[0m\u001b[0m\n\u001b[1;32m     15\u001b[0m         \u001b[0mloss\u001b[0m \u001b[0;34m=\u001b[0m \u001b[0mcompute_loss\u001b[0m\u001b[0;34m(\u001b[0m\u001b[0mX_batch\u001b[0m\u001b[0;34m,\u001b[0m \u001b[0my_batch\u001b[0m\u001b[0;34m)\u001b[0m\u001b[0;34m\u001b[0m\u001b[0;34m\u001b[0m\u001b[0m\n\u001b[0;32m---> 16\u001b[0;31m         \u001b[0mloss\u001b[0m\u001b[0;34m.\u001b[0m\u001b[0mbackward\u001b[0m\u001b[0;34m(\u001b[0m\u001b[0;34m)\u001b[0m\u001b[0;34m\u001b[0m\u001b[0;34m\u001b[0m\u001b[0m\n\u001b[0m\u001b[1;32m     17\u001b[0m         \u001b[0mopt\u001b[0m\u001b[0;34m.\u001b[0m\u001b[0mstep\u001b[0m\u001b[0;34m(\u001b[0m\u001b[0;34m)\u001b[0m\u001b[0;34m\u001b[0m\u001b[0;34m\u001b[0m\u001b[0m\n\u001b[1;32m     18\u001b[0m         \u001b[0mopt\u001b[0m\u001b[0;34m.\u001b[0m\u001b[0mzero_grad\u001b[0m\u001b[0;34m(\u001b[0m\u001b[0;34m)\u001b[0m\u001b[0;34m\u001b[0m\u001b[0;34m\u001b[0m\u001b[0m\n",
      "\u001b[0;32m/usr/local/lib/python3.6/dist-packages/torch/tensor.py\u001b[0m in \u001b[0;36mbackward\u001b[0;34m(self, gradient, retain_graph, create_graph)\u001b[0m\n\u001b[1;32m    100\u001b[0m                 \u001b[0mproducts\u001b[0m\u001b[0;34m.\u001b[0m \u001b[0mDefaults\u001b[0m \u001b[0mto\u001b[0m\u001b[0;31m \u001b[0m\u001b[0;31m`\u001b[0m\u001b[0;31m`\u001b[0m\u001b[0;32mFalse\u001b[0m\u001b[0;31m`\u001b[0m\u001b[0;31m`\u001b[0m\u001b[0;34m.\u001b[0m\u001b[0;34m\u001b[0m\u001b[0;34m\u001b[0m\u001b[0m\n\u001b[1;32m    101\u001b[0m         \"\"\"\n\u001b[0;32m--> 102\u001b[0;31m         \u001b[0mtorch\u001b[0m\u001b[0;34m.\u001b[0m\u001b[0mautograd\u001b[0m\u001b[0;34m.\u001b[0m\u001b[0mbackward\u001b[0m\u001b[0;34m(\u001b[0m\u001b[0mself\u001b[0m\u001b[0;34m,\u001b[0m \u001b[0mgradient\u001b[0m\u001b[0;34m,\u001b[0m \u001b[0mretain_graph\u001b[0m\u001b[0;34m,\u001b[0m \u001b[0mcreate_graph\u001b[0m\u001b[0;34m)\u001b[0m\u001b[0;34m\u001b[0m\u001b[0;34m\u001b[0m\u001b[0m\n\u001b[0m\u001b[1;32m    103\u001b[0m \u001b[0;34m\u001b[0m\u001b[0m\n\u001b[1;32m    104\u001b[0m     \u001b[0;32mdef\u001b[0m \u001b[0mregister_hook\u001b[0m\u001b[0;34m(\u001b[0m\u001b[0mself\u001b[0m\u001b[0;34m,\u001b[0m \u001b[0mhook\u001b[0m\u001b[0;34m)\u001b[0m\u001b[0;34m:\u001b[0m\u001b[0;34m\u001b[0m\u001b[0;34m\u001b[0m\u001b[0m\n",
      "\u001b[0;32m/usr/local/lib/python3.6/dist-packages/torch/autograd/__init__.py\u001b[0m in \u001b[0;36mbackward\u001b[0;34m(tensors, grad_tensors, retain_graph, create_graph, grad_variables)\u001b[0m\n\u001b[1;32m     88\u001b[0m     Variable._execution_engine.run_backward(\n\u001b[1;32m     89\u001b[0m         \u001b[0mtensors\u001b[0m\u001b[0;34m,\u001b[0m \u001b[0mgrad_tensors\u001b[0m\u001b[0;34m,\u001b[0m \u001b[0mretain_graph\u001b[0m\u001b[0;34m,\u001b[0m \u001b[0mcreate_graph\u001b[0m\u001b[0;34m,\u001b[0m\u001b[0;34m\u001b[0m\u001b[0;34m\u001b[0m\u001b[0m\n\u001b[0;32m---> 90\u001b[0;31m         allow_unreachable=True)  # allow_unreachable flag\n\u001b[0m\u001b[1;32m     91\u001b[0m \u001b[0;34m\u001b[0m\u001b[0m\n\u001b[1;32m     92\u001b[0m \u001b[0;34m\u001b[0m\u001b[0m\n",
      "\u001b[0;31mKeyboardInterrupt\u001b[0m: "
     ]
    }
   ],
   "source": [
    "opt = torch.optim.Adam(model.parameters(), lr=0.0001)\n",
    "\n",
    "train_loss = []\n",
    "val_accuracy = []\n",
    "\n",
    "num_epochs = 35 # total amount of full passes over training data\n",
    "\n",
    "import time\n",
    "\n",
    "for epoch in range(num_epochs):\n",
    "    start_time = time.time()\n",
    "    model.train(True) # enable dropout / batch_norm training behavior\n",
    "    for (X_batch, y_batch) in train_batch_gen:\n",
    "        # train on batch\n",
    "        loss = compute_loss(X_batch, y_batch)\n",
    "        loss.backward()\n",
    "        opt.step()\n",
    "        opt.zero_grad()\n",
    "        train_loss.append(loss.cpu().data.numpy())\n",
    "\n",
    "    \n",
    "    model.train(False) # disable dropout / use averages for batch_norm\n",
    "    for X_batch, y_batch in val_batch_gen:\n",
    "        logits = model(Variable(torch.FloatTensor(X_batch)))\n",
    "        y_pred = logits.max(1)[1].data\n",
    "        val_accuracy.append(np.mean( (y_batch.cpu() == y_pred.cpu()).numpy() ))\n",
    "\n",
    "    \n",
    "    # Then we print the results for this epoch:\n",
    "    print(\"Epoch {} of {} took {:.3f}s\".format(\n",
    "        epoch + 1, num_epochs, time.time() - start_time))\n",
    "    print(\"  training loss (in-iteration): \\t{:.6f}\".format(\n",
    "        np.mean(train_loss[-len(train_dataset) // batch_size :])))\n",
    "    print(\"  validation accuracy: \\t\\t\\t{:.2f} %\".format(\n",
    "        np.mean(val_accuracy[-len(val_dataset) // batch_size :]) * 100))"
   ]
  },
  {
   "cell_type": "markdown",
   "metadata": {
    "colab_type": "text",
    "id": "STTozCLWHMkQ"
   },
   "source": [
    "Stopped the model due to the Collab session."
   ]
  },
  {
   "cell_type": "code",
   "execution_count": 0,
   "metadata": {
    "colab": {},
    "colab_type": "code",
    "id": "oAdcOoIFy1MD"
   },
   "outputs": [],
   "source": [
    "torch.save(model.state_dict(), 'Checkpoint.pth')"
   ]
  },
  {
   "cell_type": "code",
   "execution_count": 0,
   "metadata": {
    "colab": {},
    "colab_type": "code",
    "id": "YveWXfIx-ttq"
   },
   "outputs": [],
   "source": [
    "state_dict = torch.load('Checkpoint.pth')\n",
    "model.load_state_dict(state_dict)"
   ]
  },
  {
   "cell_type": "code",
   "execution_count": 12,
   "metadata": {
    "colab": {
     "base_uri": "https://localhost:8080/",
     "height": 782
    },
    "colab_type": "code",
    "id": "myhqVa2YDvX2",
    "outputId": "7aafafb4-e344-4b3d-9afb-d85f1aa7e45f"
   },
   "outputs": [
    {
     "name": "stdout",
     "output_type": "stream",
     "text": [
      "Epoch 1 of 15 took 1212.931s\n",
      "  training loss (in-iteration): \t2.872272\n",
      "  validation accuracy: \t\t\t37.71 %\n",
      "Epoch 2 of 15 took 1220.260s\n",
      "  training loss (in-iteration): \t2.843887\n",
      "  validation accuracy: \t\t\t38.00 %\n",
      "Epoch 3 of 15 took 1259.606s\n",
      "  training loss (in-iteration): \t2.810568\n",
      "  validation accuracy: \t\t\t37.43 %\n",
      "Epoch 4 of 15 took 1257.793s\n",
      "  training loss (in-iteration): \t2.787693\n",
      "  validation accuracy: \t\t\t37.94 %\n",
      "Epoch 5 of 15 took 1259.672s\n",
      "  training loss (in-iteration): \t2.766222\n",
      "  validation accuracy: \t\t\t37.47 %\n",
      "Epoch 6 of 15 took 1257.370s\n",
      "  training loss (in-iteration): \t2.751547\n",
      "  validation accuracy: \t\t\t37.23 %\n",
      "Epoch 7 of 15 took 1237.180s\n",
      "  training loss (in-iteration): \t2.732216\n",
      "  validation accuracy: \t\t\t37.84 %\n",
      "Epoch 8 of 15 took 1205.719s\n",
      "  training loss (in-iteration): \t2.700253\n",
      "  validation accuracy: \t\t\t37.61 %\n",
      "Epoch 9 of 15 took 1218.860s\n",
      "  training loss (in-iteration): \t2.697625\n",
      "  validation accuracy: \t\t\t37.44 %\n",
      "Epoch 10 of 15 took 1199.664s\n",
      "  training loss (in-iteration): \t2.683227\n",
      "  validation accuracy: \t\t\t37.81 %\n",
      "Epoch 11 of 15 took 1202.079s\n",
      "  training loss (in-iteration): \t2.662674\n",
      "  validation accuracy: \t\t\t37.76 %\n",
      "Epoch 12 of 15 took 1200.394s\n",
      "  training loss (in-iteration): \t2.646498\n",
      "  validation accuracy: \t\t\t38.09 %\n",
      "Epoch 13 of 15 took 1203.694s\n",
      "  training loss (in-iteration): \t2.629942\n",
      "  validation accuracy: \t\t\t38.21 %\n",
      "Epoch 14 of 15 took 1205.386s\n",
      "  training loss (in-iteration): \t2.622753\n",
      "  validation accuracy: \t\t\t38.42 %\n",
      "Epoch 15 of 15 took 1205.116s\n",
      "  training loss (in-iteration): \t2.602746\n",
      "  validation accuracy: \t\t\t38.46 %\n"
     ]
    }
   ],
   "source": [
    "opt = torch.optim.Adam(model.parameters(), lr=0.0001)\n",
    "\n",
    "train_loss = []\n",
    "val_accuracy = []\n",
    "\n",
    "num_epochs = 15 # total amount of full passes over training data\n",
    "\n",
    "import time\n",
    "\n",
    "for epoch in range(num_epochs):\n",
    "    start_time = time.time()\n",
    "    model.train(True) # enable dropout / batch_norm training behavior\n",
    "    for (X_batch, y_batch) in train_batch_gen:\n",
    "        # train on batch\n",
    "        loss = compute_loss(X_batch, y_batch)\n",
    "        loss.backward()\n",
    "        opt.step()\n",
    "        opt.zero_grad()\n",
    "        train_loss.append(loss.cpu().data.numpy())\n",
    "\n",
    "    \n",
    "    model.train(False) # disable dropout / use averages for batch_norm\n",
    "    for X_batch, y_batch in val_batch_gen:\n",
    "        logits = model(Variable(torch.FloatTensor(X_batch)))\n",
    "        y_pred = logits.max(1)[1].data\n",
    "        val_accuracy.append(np.mean( (y_batch.cpu() == y_pred.cpu()).numpy() ))\n",
    "\n",
    "    \n",
    "    # Then we print the results for this epoch:\n",
    "    print(\"Epoch {} of {} took {:.3f}s\".format(\n",
    "        epoch + 1, num_epochs, time.time() - start_time))\n",
    "    print(\"  training loss (in-iteration): \\t{:.6f}\".format(\n",
    "        np.mean(train_loss[-len(train_dataset) // batch_size :])))\n",
    "    print(\"  validation accuracy: \\t\\t\\t{:.2f} %\".format(\n",
    "        np.mean(val_accuracy[-len(val_dataset) // batch_size :]) * 100))"
   ]
  },
  {
   "cell_type": "code",
   "execution_count": 0,
   "metadata": {
    "colab": {},
    "colab_type": "code",
    "id": "-SH_WP-sGGav"
   },
   "outputs": [],
   "source": [
    "torch.save(model.state_dict(), 'CheckpointFinal.pth')"
   ]
  },
  {
   "cell_type": "code",
   "execution_count": 0,
   "metadata": {
    "colab": {},
    "colab_type": "code",
    "id": "GJV79hclrBuA"
   },
   "outputs": [],
   "source": [
    "state_dict = torch.load('CheckpointFinal.pth')\n",
    "model.load_state_dict(state_dict)"
   ]
  },
  {
   "cell_type": "markdown",
   "metadata": {
    "colab_type": "text",
    "id": "MklmN6SSXJ-6"
   },
   "source": [
    "When everything is done, please compute accuracy on the validation set and report it below."
   ]
  },
  {
   "cell_type": "markdown",
   "metadata": {
    "colab_type": "text",
    "id": "KxktjpC1XJ-9"
   },
   "source": [
    "# Report\n",
    "\n",
    "Below, please mention\n",
    "\n",
    "* a brief history of tweaks and improvements;\n",
    "* what is the final architecture and why?\n",
    "* what is the training method (batch size, optimization algorithm, ...) and why?\n",
    "* Any regularization and other techniques applied and their effects;\n",
    "\n",
    "The reference format is:\n",
    "\n",
    "*\"I have analyzed these and these articles|sources|blog posts, tried that and that to adapt them to my problem and the conclusions are such and such\".*"
   ]
  },
  {
   "cell_type": "markdown",
   "metadata": {
    "colab_type": "text",
    "id": "SFT_bjzCXJ-9"
   },
   "source": [
    "Part 1.\n",
    "\n",
    "At the beginning, I simply applied the model from the seminar week 2 and run until 10 iterations. It did not include any convolutional layers. The obtained val score was 9.42% at 10 epoch, which obviously was not satisfactory, yet trained relatively fast as compared to subsequent models (~200 s/epoch).\n",
    "\n",
    "On the second trial, I applied 2 convolutional layers and max pool while not changing anything from the seminar's model. After epoch 10, val accuracy could not get higher than 16.77%.\n",
    "\n",
    "On the third trial, I applied data augmentation by adding normalization. The result did not change significantly.\n",
    "\n",
    "Then, I applied one more layer, where each convolution increases output relative to input channels. Thus, the last convolution had 128 output channels, and after each convolution there was a batch normalization and then ELU. The obtained val score could reach 21% at 10th epoch, however each iteration took 900 s/epoch on Collab with GPU option turned on.\n",
    "\n",
    "On the fith trial, architecture which distantly resembles VGGNet was created with 12 convolutional layers, which took a lot of time to train (~ 12 hours). The highest val score was 29.83% at epoch 8. However, the score did not improve and I stopped training the model at 32st epoch due to overfitting.\n",
    "\n",
    "To cope with long training time and overfitting, I applied more image transformations and reduced output channels for convolutional layers for the next trial. One important change was a switch from SGD optimizer to Adam optimizer. Particularly, the next models had 8 convolutional layers, image transofmations included random rotations, flips, and grayscale. As the result, the val score was lower than the previous model, yet no overfitting was registered. To explain the validation accuracy reduction, the precious model was more architecturally complex than the subsequent trials. For example, the first epoch for the \"fith\" model was 16%, while subsequent ones had around 6%. In addition, I converted images to grayscale, and it reduced computational time while increased validation error.\n",
    "\n",
    "Finally, this update contains a final model with a bunch of image transformations, tweaked 8 convolutional layers, and it could achieve 38%.\n",
    "\n",
    "Part 2 (UPD).\n",
    "\n",
    "The final model (as it here) was based on VGGNet because of uniform architecture and becuase of its easiness of applicability. Also, I analyzed an article on Medium by Siddharth Das, where he compares all known CNN architectures. According to the article, VGGNet is good at extracting features from images and serves as a baseline extracting patterns, which is a relevant task for the assignment. I also analyzed a VGGNet architecture from Pytorch Forum by shaqdc1, and I did it in a similar way.\n",
    "\n",
    "Looking into the model, it has a total 8 convolutional layers. One \"block\" starts with the first conv. layer with input channel less than output channel, and after such every conv. layer there are batch normalization and activation function. The next convolutional layers have the same input and output channels to widen the convolution block. The last part of the block is a maxpool layer.\n",
    "\n",
    "Part 3  & 4 ( UPD). \n",
    "\n",
    "I kept batch size of 50 as from the seminar since it occured to be optimal for my model based on subsequent trials. Speaking about activations, I kept ReLU as default since no significant impact on accuracy were shown by other types of activations. For the final model, I changed SGD optimization to Adam becuase of its known good performance. Also, I added normalization, random vertica and horizontal flips, rotations for transforming images, which helped my model to ovoid overfitting.\n",
    "\n",
    "\n",
    "\n",
    "\n",
    "\n",
    "\n"
   ]
  },
  {
   "cell_type": "code",
   "execution_count": 0,
   "metadata": {
    "colab": {},
    "colab_type": "code",
    "id": "lqIEWy0iXJ--"
   },
   "outputs": [],
   "source": []
  }
 ],
 "metadata": {
  "accelerator": "GPU",
  "colab": {
   "collapsed_sections": [],
   "name": "homework_part2_Anton_Morozov_Updated.ipynb",
   "provenance": [],
   "toc_visible": true,
   "version": "0.3.2"
  },
  "kernelspec": {
   "display_name": "Python 3",
   "language": "python",
   "name": "python3"
  },
  "language_info": {
   "codemirror_mode": {
    "name": "ipython",
    "version": 3
   },
   "file_extension": ".py",
   "mimetype": "text/x-python",
   "name": "python",
   "nbconvert_exporter": "python",
   "pygments_lexer": "ipython3",
   "version": "3.7.5"
  }
 },
 "nbformat": 4,
 "nbformat_minor": 1
}
